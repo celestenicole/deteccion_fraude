{
 "cells": [
  {
   "cell_type": "markdown",
   "id": "52476db5",
   "metadata": {},
   "source": [
    "# 📊 Análisis Exploratorio de Datos - Credit Risk\n",
    "\n",
    "Este notebook realiza el análisis inicial de los datos del reto de detección de riesgo crediticio."
   ]
  },
  {
   "cell_type": "code",
   "execution_count": null,
   "id": "36fc29f7",
   "metadata": {},
   "outputs": [],
   "source": [
    "# Importar librerías necesarias\n",
    "import pandas as pd\n",
    "import numpy as np\n",
    "import matplotlib.pyplot as plt\n",
    "import seaborn as sns\n",
    "from pathlib import Path\n",
    "\n",
    "# Configuración de visualización\n",
    "plt.style.use('default')\n",
    "sns.set_palette(\"husl\")\n",
    "pd.set_option('display.max_columns', None)\n",
    "\n",
    "print(\"✅ Librerías importadas correctamente\")"
   ]
  },
  {
   "cell_type": "code",
   "execution_count": null,
   "id": "b9559e33",
   "metadata": {},
   "outputs": [],
   "source": [
    "# Cargar datos\n",
    "data_path = Path(\"../data/credir_risk_reto.xlsx\")\n",
    "print(f\"📂 Cargando datos desde: {data_path}\")\n",
    "\n",
    "df = pd.read_excel(data_path)\n",
    "print(f\"✅ Datos cargados exitosamente\")\n",
    "print(f\"📊 Forma del dataset: {df.shape}\")"
   ]
  },
  {
   "cell_type": "code",
   "execution_count": null,
   "id": "5bc4d06e",
   "metadata": {},
   "outputs": [],
   "source": [
    "# Información general del dataset\n",
    "print(\"🔍 INFORMACIÓN GENERAL DEL DATASET\")\n",
    "print(\"=\" * 50)\n",
    "print(f\"Número de filas: {df.shape[0]}\")\n",
    "print(f\"Número de columnas: {df.shape[1]}\")\n",
    "print(f\"\\nColumnas disponibles:\")\n",
    "for i, col in enumerate(df.columns, 1):\n",
    "    print(f\"{i:2d}. {col}\")"
   ]
  },
  {
   "cell_type": "code",
   "execution_count": null,
   "id": "8f150bc3",
   "metadata": {},
   "outputs": [],
   "source": [
    "# Tipos de datos y valores nulos\n",
    "print(\"📋 TIPOS DE DATOS Y VALORES NULOS\")\n",
    "print(\"=\" * 50)\n",
    "\n",
    "info_df = pd.DataFrame({\n",
    "    'Tipo': df.dtypes,\n",
    "    'Valores_Nulos': df.isnull().sum(),\n",
    "    'Porcentaje_Nulos': (df.isnull().sum() / len(df) * 100).round(2),\n",
    "    'Valores_Únicos': df.nunique()\n",
    "})\n",
    "\n",
    "display(info_df)"
   ]
  },
  {
   "cell_type": "code",
   "execution_count": null,
   "id": "d7aba270",
   "metadata": {},
   "outputs": [],
   "source": [
    "# Primeras filas del dataset\n",
    "print(\"👀 PRIMERAS 10 FILAS DEL DATASET\")\n",
    "print(\"=\" * 50)\n",
    "display(df.head(10))"
   ]
  },
  {
   "cell_type": "code",
   "execution_count": null,
   "id": "ad62a2a7",
   "metadata": {},
   "outputs": [],
   "source": [
    "# Estadísticas descriptivas\n",
    "print(\"📈 ESTADÍSTICAS DESCRIPTIVAS\")\n",
    "print(\"=\" * 50)\n",
    "display(df.describe(include='all'))"
   ]
  },
  {
   "cell_type": "code",
   "execution_count": null,
   "id": "deea390f",
   "metadata": {},
   "outputs": [],
   "source": [
    "# Identificar variable target\n",
    "print(\"🎯 IDENTIFICANDO VARIABLE TARGET\")\n",
    "print(\"=\" * 50)\n",
    "\n",
    "# Buscar columnas que podrían ser target\n",
    "target_candidates = []\n",
    "for col in df.columns:\n",
    "    unique_vals = df[col].nunique()\n",
    "    if unique_vals <= 5:  # Pocas categorías\n",
    "        print(f\"{col}: {unique_vals} valores únicos -> {df[col].unique()}\")\n",
    "        target_candidates.append(col)\n",
    "\n",
    "print(f\"\\n🎯 Candidatos para variable target: {target_candidates}\")"
   ]
  },
  {
   "cell_type": "code",
   "execution_count": null,
   "id": "1e59cf61",
   "metadata": {},
   "outputs": [],
   "source": [
    "# Guardar dataset como CSV para uso posterior\n",
    "csv_path = \"../data/credit_risk_reto.csv\"\n",
    "df.to_csv(csv_path, index=False)\n",
    "print(f\"✅ Dataset guardado como CSV: {csv_path}\")\n",
    "\n",
    "# Mostrar resumen final\n",
    "print(f\"\\n📊 RESUMEN FINAL:\")\n",
    "print(f\"• Dataset: {df.shape[0]} filas x {df.shape[1]} columnas\")\n",
    "print(f\"• Archivo CSV generado: {csv_path}\")\n",
    "print(f\"• Listo para continuar con AWS Bedrock 🚀\")"
   ]
  }
 ],
 "metadata": {
  "language_info": {
   "name": "python"
  }
 },
 "nbformat": 4,
 "nbformat_minor": 5
}
